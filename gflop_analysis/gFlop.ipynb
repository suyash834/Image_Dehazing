{
 "cells": [
  {
   "cell_type": "code",
   "execution_count": 27,
   "id": "a437dbc4-b2f1-4ac1-bb52-260261fdfd40",
   "metadata": {},
   "outputs": [],
   "source": [
    "import torch\n",
    "import torch.nn as nn\n",
    "import matplotlib.pyplot as plt\n",
    "from thop import profile"
   ]
  },
  {
   "cell_type": "code",
   "execution_count": 28,
   "id": "a22d6349-9769-4cc1-ac24-2fb0da7f8f48",
   "metadata": {},
   "outputs": [],
   "source": [
    "# === DeepDehazeNet Definition ===\n",
    "class DeepDehazeNet(nn.Module):\n",
    "    def __init__(self, layers=8):\n",
    "        super().__init__()\n",
    "        def conv_block(in_c, out_c):\n",
    "            return nn.Sequential(\n",
    "                nn.Conv2d(in_c, out_c, 3, padding=1),\n",
    "                nn.BatchNorm2d(out_c),\n",
    "                nn.ReLU(inplace=True),\n",
    "                nn.Dropout(0.2)\n",
    "            )\n",
    "        self.layers = layers\n",
    "        if layers == 4:\n",
    "            self.enc1 = conv_block(3, 64)\n",
    "            self.pool1 = nn.MaxPool2d(2)\n",
    "            self.bottleneck = conv_block(64, 128)\n",
    "            self.up1 = nn.ConvTranspose2d(128, 64, 2, stride=2)\n",
    "            self.dec1 = conv_block(128, 64)\n",
    "            self.final = nn.Conv2d(64, 3, 1)\n",
    "        elif layers == 8:\n",
    "            self.enc1 = conv_block(3, 64)\n",
    "            self.pool1 = nn.MaxPool2d(2)\n",
    "            self.enc2 = conv_block(64, 128)\n",
    "            self.pool2 = nn.MaxPool2d(2)\n",
    "            self.enc3 = conv_block(128, 256)\n",
    "            self.pool3 = nn.MaxPool2d(2)\n",
    "            self.bottleneck = conv_block(256, 512)\n",
    "            self.up1 = nn.ConvTranspose2d(512, 256, 2, stride=2)\n",
    "            self.dec1 = conv_block(512, 256)\n",
    "            self.up2 = nn.ConvTranspose2d(256, 128, 2, stride=2)\n",
    "            self.dec2 = conv_block(256, 128)\n",
    "            self.up3 = nn.ConvTranspose2d(128, 64, 2, stride=2)\n",
    "            self.dec3 = conv_block(128, 64)\n",
    "            self.final = nn.Conv2d(64, 3, 1)\n",
    "        elif layers == 16:\n",
    "            self.enc1 = conv_block(3, 64)\n",
    "            self.pool1 = nn.MaxPool2d(2)\n",
    "            self.enc2 = conv_block(64, 128)\n",
    "            self.pool2 = nn.MaxPool2d(2)\n",
    "            self.enc3 = conv_block(128, 256)\n",
    "            self.pool3 = nn.MaxPool2d(2)\n",
    "            self.enc4 = conv_block(256, 512)\n",
    "            self.pool4 = nn.MaxPool2d(2)\n",
    "            self.enc5 = conv_block(512, 1024)\n",
    "            self.pool5 = nn.MaxPool2d(2)\n",
    "            self.bottleneck = conv_block(1024, 2048)\n",
    "            self.up1 = nn.ConvTranspose2d(2048, 1024, 2, stride=2)\n",
    "            self.dec1 = conv_block(2048, 1024)\n",
    "            self.up2 = nn.ConvTranspose2d(1024, 512, 2, stride=2)\n",
    "            self.dec2 = conv_block(1024, 512)\n",
    "            self.up3 = nn.ConvTranspose2d(512, 256, 2, stride=2)\n",
    "            self.dec3 = conv_block(512, 256)\n",
    "            self.up4 = nn.ConvTranspose2d(256, 128, 2, stride=2)\n",
    "            self.dec4 = conv_block(256, 128)\n",
    "            self.up5 = nn.ConvTranspose2d(128, 64, 2, stride=2)\n",
    "            self.dec5 = conv_block(128, 64)\n",
    "            self.final = nn.Conv2d(64, 3, 1)\n",
    "\n",
    "    def forward(self, x):\n",
    "        if self.layers == 4:\n",
    "            e1 = self.enc1(x)\n",
    "            b = self.bottleneck(self.pool1(e1))\n",
    "            d1 = self.dec1(torch.cat([self.up1(b), e1], 1))\n",
    "            return torch.sigmoid(self.final(d1))\n",
    "        elif self.layers == 8:\n",
    "            e1 = self.enc1(x)\n",
    "            e2 = self.enc2(self.pool1(e1))\n",
    "            e3 = self.enc3(self.pool2(e2))\n",
    "            b = self.bottleneck(self.pool3(e3))\n",
    "            d1 = self.dec1(torch.cat([self.up1(b), e3], 1))\n",
    "            d2 = self.dec2(torch.cat([self.up2(d1), e2], 1))\n",
    "            d3 = self.dec3(torch.cat([self.up3(d2), e1], 1))\n",
    "            return torch.sigmoid(self.final(d3))\n",
    "        elif self.layers == 16:\n",
    "            e1 = self.enc1(x)\n",
    "            e2 = self.enc2(self.pool1(e1))\n",
    "            e3 = self.enc3(self.pool2(e2))\n",
    "            e4 = self.enc4(self.pool3(e3))\n",
    "            e5 = self.enc5(self.pool4(e4))\n",
    "            b = self.bottleneck(self.pool5(e5))\n",
    "            d1 = self.dec1(torch.cat([self.up1(b), e5], 1))\n",
    "            d2 = self.dec2(torch.cat([self.up2(d1), e4], 1))\n",
    "            d3 = self.dec3(torch.cat([self.up3(d2), e3], 1))\n",
    "            d4 = self.dec4(torch.cat([self.up4(d3), e2], 1))\n",
    "            d5 = self.dec5(torch.cat([self.up5(d4), e1], 1))\n",
    "            return torch.sigmoid(self.final(d5))\n"
   ]
  },
  {
   "cell_type": "code",
   "execution_count": 29,
   "id": "3e4e7399-f7d2-475d-978e-d7bbbb95f419",
   "metadata": {},
   "outputs": [],
   "source": [
    "# === Compute GFLOPs and Params ===\n",
    "dummy_input = torch.randn(1, 3, 256, 256)\n",
    "results = {}\n",
    "\n",
    "for layers in [4, 8, 16]:\n",
    "    model = DeepDehazeNet(layers).eval()\n",
    "    flops, params = profile(model, inputs=(dummy_input,), verbose=False)\n",
    "    gflops = flops / 1e9\n",
    "    mparams = params / 1e6\n",
    "    results[f\"{layers} Layers\"] = (gflops, mparams)\n"
   ]
  },
  {
   "cell_type": "code",
   "execution_count": 30,
   "id": "8222d3f7-d6f7-4349-8dbd-2e9e1862d8ad",
   "metadata": {},
   "outputs": [
    {
     "name": "stdout",
     "output_type": "stream",
     "text": [
      "\n",
      "✅ GFLOPs and Parameters for DeepDehazeNet:\n",
      "\n",
      "Model            GFLOPs   Params (M)\n",
      "------------------------------------\n",
      "4 Layers           8.36         0.18\n",
      "8 Layers          24.75         3.79\n",
      "16 Layers         41.13        61.48\n"
     ]
    }
   ],
   "source": [
    "# === Print Table ===\n",
    "print(\"\\n✅ GFLOPs and Parameters for DeepDehazeNet:\\n\")\n",
    "print(f\"{'Model':<12} {'GFLOPs':>10} {'Params (M)':>12}\")\n",
    "print(\"-\" * 36)\n",
    "for name, (gflop, mparam) in results.items():\n",
    "    print(f\"{name:<12} {gflop:10.2f} {mparam:12.2f}\")"
   ]
  },
  {
   "cell_type": "code",
   "execution_count": 31,
   "id": "30e0c37d-06c5-4e6f-be2a-3d41ea8596e7",
   "metadata": {},
   "outputs": [
    {
     "data": {
      "image/png": "[encoded data removed]",
      "text/plain": [
       "<Figure size 1000x400 with 2 Axes>"
      ]
     },
     "metadata": {},
     "output_type": "display_data"
    }
   ],
   "source": [
    "# === Plot Charts ===\n",
    "labels = list(results.keys())\n",
    "gflops = [results[k][0] for k in labels]\n",
    "params = [results[k][1] for k in labels]\n",
    "\n",
    "plt.figure(figsize=(10, 4))\n",
    "\n",
    "# GFLOPs bar plot\n",
    "plt.subplot(1, 2, 1)\n",
    "plt.bar(labels, gflops, color='skyblue')\n",
    "plt.title(\"GFLOPs per Model\")\n",
    "plt.ylabel(\"GFLOPs\")\n",
    "plt.grid(True)\n",
    "\n",
    "# Params bar plot\n",
    "plt.subplot(1, 2, 2)\n",
    "plt.bar(labels, params, color='salmon')\n",
    "plt.title(\"Parameters per Model\")\n",
    "plt.ylabel(\"Million Parameters\")\n",
    "plt.grid(True)\n",
    "\n",
    "plt.tight_layout()\n",
    "plt.show()\n"
   ]
  },
  {
   "cell_type": "code",
   "execution_count": null,
   "id": "f20833fa-a00b-4e92-9d19-a290afee6bab",
   "metadata": {},
   "outputs": [],
   "source": []
  }
 ],
 "metadata": {
  "kernelspec": {
   "display_name": "Python 3 (ipykernel)",
   "language": "python",
   "name": "python3"
  },
  "language_info": {
   "codemirror_mode": {
    "name": "ipython",
    "version": 3
   },
   "file_extension": ".py",
   "mimetype": "text/x-python",
   "name": "python",
   "nbconvert_exporter": "python",
   "pygments_lexer": "ipython3",
   "version": "3.13.3"
  }
 },
 "nbformat": 4,
 "nbformat_minor": 5
}
